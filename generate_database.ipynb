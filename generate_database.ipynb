{
 "cells": [
  {
   "cell_type": "code",
   "execution_count": 1,
   "id": "b41d8e7b",
   "metadata": {},
   "outputs": [],
   "source": [
    "import pandas as pd\n",
    "import os\n",
    "import shutil"
   ]
  },
  {
   "cell_type": "code",
   "execution_count": 2,
   "id": "520e089b",
   "metadata": {},
   "outputs": [],
   "source": [
    "all_images = set(os.listdir(\"raw_data/images\"))"
   ]
  },
  {
   "cell_type": "code",
   "execution_count": 3,
   "id": "438f3ca9",
   "metadata": {},
   "outputs": [],
   "source": [
    "def write_folder(folder_name, df):\n",
    "    for file_name in df['file_name'].dropna().unique():\n",
    "        if file_name in all_images:\n",
    "            src_path = os.path.join('raw_data/images', file_name)\n",
    "            dst_path = os.path.join(f'manipulated_data/images/{folder_name}', file_name)\n",
    "\n",
    "            # Copia a imagem para a pasta manipulada\n",
    "            shutil.copy2(src_path, dst_path)\n",
    "\n",
    "            # Remove da lista para evitar duplicatas\n",
    "            all_images.remove(file_name)"
   ]
  },
  {
   "cell_type": "code",
   "execution_count": 4,
   "id": "6fd4b42d",
   "metadata": {},
   "outputs": [],
   "source": [
    "df = pd.read_csv(\"manipulated_data/initial_filtered_clothes.csv\")"
   ]
  },
  {
   "cell_type": "code",
   "execution_count": 5,
   "id": "50e53329",
   "metadata": {},
   "outputs": [],
   "source": [
    "animal_df = df[df['Details'] == 'Animal print']\n",
    "write_folder('animal_print', animal_df)"
   ]
  },
  {
   "cell_type": "code",
   "execution_count": 6,
   "id": "0a640a49",
   "metadata": {},
   "outputs": [],
   "source": [
    "checkers_df = df[df['Details'] == 'Checkers']\n",
    "write_folder('checkers', checkers_df)"
   ]
  },
  {
   "cell_type": "code",
   "execution_count": 7,
   "id": "485563bc",
   "metadata": {},
   "outputs": [],
   "source": [
    "stripes_df = df[df['Details'] == 'Stripes']\n",
    "write_folder('stripes', stripes_df)"
   ]
  },
  {
   "cell_type": "code",
   "execution_count": 8,
   "id": "d9de550d",
   "metadata": {},
   "outputs": [],
   "source": [
    "for category in [\"Pattern\", \"Floral\", \"Solid\"]:\n",
    "    subset = df[df['Details'] == category]\n",
    "    valid_subset = subset[subset['file_name'].isin(all_images)].dropna(subset=['file_name'])\n",
    "    sample_subset = valid_subset.sample(n=1500, random_state=42)\n",
    "    for file_name in sample_subset['file_name']:\n",
    "        src_path = os.path.join('raw_data/images', file_name)\n",
    "        dst_path = os.path.join(f'manipulated_data/images/{category.lower()}', file_name)\n",
    "        shutil.copy2(src_path, dst_path)\n",
    "        all_images.remove(file_name)"
   ]
  },
  {
   "cell_type": "code",
   "execution_count": 9,
   "id": "0dd7d7e6",
   "metadata": {},
   "outputs": [],
   "source": [
    "# Cria um DataFrame apenas com os arquivos restantes\n",
    "remaining_df = df[df['file_name'].isin(all_images)].copy()\n",
    "remaining_df.to_csv(\"remaining_clothes.csv\", index=False)"
   ]
  }
 ],
 "metadata": {
  "kernelspec": {
   "display_name": ".venv",
   "language": "python",
   "name": "python3"
  },
  "language_info": {
   "codemirror_mode": {
    "name": "ipython",
    "version": 3
   },
   "file_extension": ".py",
   "mimetype": "text/x-python",
   "name": "python",
   "nbconvert_exporter": "python",
   "pygments_lexer": "ipython3",
   "version": "3.11.4"
  }
 },
 "nbformat": 4,
 "nbformat_minor": 5
}
